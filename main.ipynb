{
 "cells": [
  {
   "cell_type": "code",
   "execution_count": 1,
   "metadata": {},
   "outputs": [
    {
     "name": "stdout",
     "output_type": "stream",
     "text": [
      "The file 'Reggaeton_lyrics.json' already exists, so let's work on it.\n"
     ]
    },
    {
     "data": {
      "text/plain": [
       "<Figure size 640x480 with 1 Axes>"
      ]
     },
     "metadata": {},
     "output_type": "display_data"
    },
    {
     "data": {
      "text/plain": [
       "<Figure size 640x480 with 1 Axes>"
      ]
     },
     "metadata": {},
     "output_type": "display_data"
    }
   ],
   "source": [
    "import scraper, extractor, cleaner, transformer, analyzer, loader\n",
    "import pandas as pd\n",
    "import matplotlib.pyplot as plt\n",
    "\n",
    "\n",
    "def scrape():\n",
    "    df = scraper.scrape_reggaeton_lyrics()\n",
    "    return df\n",
    "\n",
    "    \n",
    "def clean(df):\n",
    "    # Limpiar las etiquetas de html\n",
    "    df['Lyrics'] = df['Lyrics'].apply(cleaner.clean_html_tags)\n",
    "    # Convertir la lista de listas en una lista de strings (donde cada string es un verso)\n",
    "    df['Lyrics'] = df['Lyrics'].apply(cleaner.flatten_list)\n",
    "    # Eliminar el '' que se me genera en todas las canciones después de la primera estrofa\n",
    "    df['Lyrics'] = df['Lyrics'].apply(cleaner.remove_linebreak)\n",
    "    loader.load_json(df, \"Reggaeton_lyrics.json\")\n",
    "    return df\n",
    "    \n",
    "    \n",
    "def extract():\n",
    "    df = extractor.extract_json('Reggaeton_lyrics.json')\n",
    "    return df\n",
    "\n",
    "\n",
    "def transform(df):\n",
    "    import statistics\n",
    "    # Crear una columna con la traducción de las canciones de español a inglés\n",
    "    df['Translation'] = df['Lyrics'].apply(transformer.translate_list)\n",
    "    \n",
    "    # Crear una columna con el cálculo de sentimiento de las canciones en inglés.\n",
    "    df['Sentiment'] = df['Translation'].apply(transformer.analyze_sentiment)\n",
    "    \n",
    "    # Crear una columna con el cálculo de la media del sentimiento por canción.\n",
    "    try:\n",
    "        df['Sent_mean'] = df['Sentiment'].apply(statistics.mean)\n",
    "    except:\n",
    "        pass\n",
    "    \n",
    "    # Crear una columna con todas las palabras de las canciones sin stopwords.\n",
    "    df['No_stopwords'] = df['Lyrics'].apply(transformer.remove_stopwords)\n",
    "    return df\n",
    "\n",
    "\n",
    "def analyze(df):\n",
    "    # Imprimir la nube de palabras relevantes\n",
    "    relevant_words = pd.Series(df['No_stopwords'].sum())\n",
    "    analyzer.print_wordcloud(relevant_words,'wordcloud.png')\n",
    "    \n",
    "    \n",
    "    # Imprimir la nube de lexemas de las palabras relevantes\n",
    "    stemmed_words = analyzer.get_stemming(relevant_words)\n",
    "    analyzer.print_wordcloud(stemmed_words,'stemmed_wordcloud.png')\n",
    "    \n",
    "\n",
    "    \n",
    "def load(df):\n",
    "    loader.load_csv(df, \"Reggaeton_lyrics.csv\")\n",
    "\n",
    "\n",
    "    \n",
    "\n",
    "def main():\n",
    "    # Verificar si ya hay un json en el directorio, resultado de un scraping anterior.\n",
    "    # Si no existe, hago scraping.\n",
    "    # Si existe, uso el json. Con esto evito tener que hacer scraping cada vez que ejecuto el pipeline.\n",
    "    import os\n",
    "    exists = os.path.isfile(\"Reggaeton_lyrics.json\")\n",
    "    if not exists:\n",
    "        df = scrape()\n",
    "        clean_df = clean(df)\n",
    "    else:\n",
    "        print(\"The file 'Reggaeton_lyrics.json' already exists, so let's work on it.\")\n",
    "        clean_df = extract()\n",
    "    \n",
    "    transformed_df = transform(clean_df)\n",
    "    analyze(transformed_df)\n",
    "    load(transformed_df)\n",
    "\n",
    "    \n",
    "if __name__ == \"__main__\":\n",
    "    main()"
   ]
  },
  {
   "cell_type": "code",
   "execution_count": null,
   "metadata": {},
   "outputs": [],
   "source": []
  }
 ],
 "metadata": {
  "kernelspec": {
   "display_name": "Python 3",
   "language": "python",
   "name": "python3"
  },
  "language_info": {
   "codemirror_mode": {
    "name": "ipython",
    "version": 3
   },
   "file_extension": ".py",
   "mimetype": "text/x-python",
   "name": "python",
   "nbconvert_exporter": "python",
   "pygments_lexer": "ipython3",
   "version": "3.7.3"
  }
 },
 "nbformat": 4,
 "nbformat_minor": 2
}
